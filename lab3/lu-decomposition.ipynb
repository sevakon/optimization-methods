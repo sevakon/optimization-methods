{
 "cells": [
  {
   "cell_type": "markdown",
   "id": "compact-converter",
   "metadata": {},
   "source": [
    "### Смиирнов Николай M3303, Коняхин Всеволод M3305\n",
    "### Методы оптимизации. LU-Разложение"
   ]
  },
  {
   "cell_type": "code",
   "execution_count": 229,
   "id": "prostate-commission",
   "metadata": {},
   "outputs": [],
   "source": [
    "import numpy as np\n",
    "import pandas as pd\n",
    "import matplotlib.pyplot as plt\n",
    "\n",
    "from scipy.sparse import csr_matrix, dok_matrix, lil_matrix"
   ]
  },
  {
   "cell_type": "markdown",
   "id": "separate-minnesota",
   "metadata": {},
   "source": [
    "### Имплементация"
   ]
  },
  {
   "cell_type": "code",
   "execution_count": 2,
   "id": "tutorial-apple",
   "metadata": {},
   "outputs": [],
   "source": [
    "from methods import get_LU, solve_system, get_inverse\n",
    "from sparse_methods import get_LU_sparse, solve_system_sparse, get_inverse_sparse"
   ]
  },
  {
   "cell_type": "markdown",
   "id": "typical-announcement",
   "metadata": {},
   "source": [
    "### LU Decomposition-test"
   ]
  },
  {
   "cell_type": "code",
   "execution_count": 3,
   "id": "working-ecuador",
   "metadata": {},
   "outputs": [],
   "source": [
    "A = np.array([\n",
    "    [1, 2, 3, 1, 2, 1], \n",
    "    [0, 1, 0, 6, -1, 0], \n",
    "    [2, 3, 1, -1, -2, -1], \n",
    "    [7, 2, 6, 0, 2, 11], \n",
    "    [1, 0, -2, 1, 4, 3], \n",
    "    [1, -5, 3, -4, 2, 0], \n",
    "])\n",
    "\n",
    "L1, U1 = get_LU(A)"
   ]
  },
  {
   "cell_type": "code",
   "execution_count": 4,
   "id": "roman-clark",
   "metadata": {},
   "outputs": [
    {
     "data": {
      "text/html": [
       "<div>\n",
       "<style scoped>\n",
       "    .dataframe tbody tr th:only-of-type {\n",
       "        vertical-align: middle;\n",
       "    }\n",
       "\n",
       "    .dataframe tbody tr th {\n",
       "        vertical-align: top;\n",
       "    }\n",
       "\n",
       "    .dataframe thead th {\n",
       "        text-align: right;\n",
       "    }\n",
       "</style>\n",
       "<table border=\"1\" class=\"dataframe\">\n",
       "  <thead>\n",
       "    <tr style=\"text-align: right;\">\n",
       "      <th></th>\n",
       "      <th>0</th>\n",
       "      <th>1</th>\n",
       "      <th>2</th>\n",
       "      <th>3</th>\n",
       "      <th>4</th>\n",
       "      <th>5</th>\n",
       "    </tr>\n",
       "  </thead>\n",
       "  <tbody>\n",
       "    <tr>\n",
       "      <th>0</th>\n",
       "      <td>1.0</td>\n",
       "      <td>0.0</td>\n",
       "      <td>0.0</td>\n",
       "      <td>0.000000</td>\n",
       "      <td>0.000000</td>\n",
       "      <td>0.0</td>\n",
       "    </tr>\n",
       "    <tr>\n",
       "      <th>1</th>\n",
       "      <td>0.0</td>\n",
       "      <td>1.0</td>\n",
       "      <td>0.0</td>\n",
       "      <td>0.000000</td>\n",
       "      <td>0.000000</td>\n",
       "      <td>0.0</td>\n",
       "    </tr>\n",
       "    <tr>\n",
       "      <th>2</th>\n",
       "      <td>2.0</td>\n",
       "      <td>-1.0</td>\n",
       "      <td>1.0</td>\n",
       "      <td>0.000000</td>\n",
       "      <td>0.000000</td>\n",
       "      <td>0.0</td>\n",
       "    </tr>\n",
       "    <tr>\n",
       "      <th>3</th>\n",
       "      <td>7.0</td>\n",
       "      <td>-12.0</td>\n",
       "      <td>3.0</td>\n",
       "      <td>1.000000</td>\n",
       "      <td>0.000000</td>\n",
       "      <td>0.0</td>\n",
       "    </tr>\n",
       "    <tr>\n",
       "      <th>4</th>\n",
       "      <td>1.0</td>\n",
       "      <td>-2.0</td>\n",
       "      <td>1.0</td>\n",
       "      <td>0.160714</td>\n",
       "      <td>1.000000</td>\n",
       "      <td>0.0</td>\n",
       "    </tr>\n",
       "    <tr>\n",
       "      <th>5</th>\n",
       "      <td>1.0</td>\n",
       "      <td>-7.0</td>\n",
       "      <td>-0.0</td>\n",
       "      <td>0.660714</td>\n",
       "      <td>-0.670644</td>\n",
       "      <td>1.0</td>\n",
       "    </tr>\n",
       "  </tbody>\n",
       "</table>\n",
       "</div>"
      ],
      "text/plain": [
       "     0     1    2         3         4    5\n",
       "0  1.0   0.0  0.0  0.000000  0.000000  0.0\n",
       "1  0.0   1.0  0.0  0.000000  0.000000  0.0\n",
       "2  2.0  -1.0  1.0  0.000000  0.000000  0.0\n",
       "3  7.0 -12.0  3.0  1.000000  0.000000  0.0\n",
       "4  1.0  -2.0  1.0  0.160714  1.000000  0.0\n",
       "5  1.0  -7.0 -0.0  0.660714 -0.670644  1.0"
      ]
     },
     "execution_count": 4,
     "metadata": {},
     "output_type": "execute_result"
    }
   ],
   "source": [
    "pd.DataFrame(L1)"
   ]
  },
  {
   "cell_type": "code",
   "execution_count": 5,
   "id": "careful-infection",
   "metadata": {},
   "outputs": [
    {
     "data": {
      "text/html": [
       "<div>\n",
       "<style scoped>\n",
       "    .dataframe tbody tr th:only-of-type {\n",
       "        vertical-align: middle;\n",
       "    }\n",
       "\n",
       "    .dataframe tbody tr th {\n",
       "        vertical-align: top;\n",
       "    }\n",
       "\n",
       "    .dataframe thead th {\n",
       "        text-align: right;\n",
       "    }\n",
       "</style>\n",
       "<table border=\"1\" class=\"dataframe\">\n",
       "  <thead>\n",
       "    <tr style=\"text-align: right;\">\n",
       "      <th></th>\n",
       "      <th>0</th>\n",
       "      <th>1</th>\n",
       "      <th>2</th>\n",
       "      <th>3</th>\n",
       "      <th>4</th>\n",
       "      <th>5</th>\n",
       "    </tr>\n",
       "  </thead>\n",
       "  <tbody>\n",
       "    <tr>\n",
       "      <th>0</th>\n",
       "      <td>1.0</td>\n",
       "      <td>2.0</td>\n",
       "      <td>3.0</td>\n",
       "      <td>1.0</td>\n",
       "      <td>2.000000</td>\n",
       "      <td>1.000000</td>\n",
       "    </tr>\n",
       "    <tr>\n",
       "      <th>1</th>\n",
       "      <td>0.0</td>\n",
       "      <td>1.0</td>\n",
       "      <td>0.0</td>\n",
       "      <td>6.0</td>\n",
       "      <td>-1.000000</td>\n",
       "      <td>0.000000</td>\n",
       "    </tr>\n",
       "    <tr>\n",
       "      <th>2</th>\n",
       "      <td>0.0</td>\n",
       "      <td>0.0</td>\n",
       "      <td>-5.0</td>\n",
       "      <td>3.0</td>\n",
       "      <td>-7.000000</td>\n",
       "      <td>-3.000000</td>\n",
       "    </tr>\n",
       "    <tr>\n",
       "      <th>3</th>\n",
       "      <td>0.0</td>\n",
       "      <td>0.0</td>\n",
       "      <td>0.0</td>\n",
       "      <td>56.0</td>\n",
       "      <td>-3.000000</td>\n",
       "      <td>13.000000</td>\n",
       "    </tr>\n",
       "    <tr>\n",
       "      <th>4</th>\n",
       "      <td>0.0</td>\n",
       "      <td>0.0</td>\n",
       "      <td>0.0</td>\n",
       "      <td>0.0</td>\n",
       "      <td>7.482143</td>\n",
       "      <td>2.910714</td>\n",
       "    </tr>\n",
       "    <tr>\n",
       "      <th>5</th>\n",
       "      <td>0.0</td>\n",
       "      <td>0.0</td>\n",
       "      <td>0.0</td>\n",
       "      <td>0.0</td>\n",
       "      <td>0.000000</td>\n",
       "      <td>-7.637232</td>\n",
       "    </tr>\n",
       "  </tbody>\n",
       "</table>\n",
       "</div>"
      ],
      "text/plain": [
       "     0    1    2     3         4          5\n",
       "0  1.0  2.0  3.0   1.0  2.000000   1.000000\n",
       "1  0.0  1.0  0.0   6.0 -1.000000   0.000000\n",
       "2  0.0  0.0 -5.0   3.0 -7.000000  -3.000000\n",
       "3  0.0  0.0  0.0  56.0 -3.000000  13.000000\n",
       "4  0.0  0.0  0.0   0.0  7.482143   2.910714\n",
       "5  0.0  0.0  0.0   0.0  0.000000  -7.637232"
      ]
     },
     "execution_count": 5,
     "metadata": {},
     "output_type": "execute_result"
    }
   ],
   "source": [
    "pd.DataFrame(U1)"
   ]
  },
  {
   "cell_type": "code",
   "execution_count": 6,
   "id": "polish-passing",
   "metadata": {},
   "outputs": [
    {
     "data": {
      "text/plain": [
       "array([[ 1.,  2.,  3.,  1.,  2.,  1.],\n",
       "       [ 0.,  1.,  0.,  6., -1.,  0.],\n",
       "       [ 2.,  3.,  1., -1., -2., -1.],\n",
       "       [ 7.,  2.,  6.,  0.,  2., 11.],\n",
       "       [ 1.,  0., -2.,  1.,  4.,  3.],\n",
       "       [ 1., -5.,  3., -4.,  2.,  0.]])"
      ]
     },
     "execution_count": 6,
     "metadata": {},
     "output_type": "execute_result"
    }
   ],
   "source": [
    "L1 @ U1"
   ]
  },
  {
   "cell_type": "markdown",
   "id": "suspected-sunset",
   "metadata": {},
   "source": [
    "### LU Decomposition-test Sparse"
   ]
  },
  {
   "cell_type": "code",
   "execution_count": 7,
   "id": "sweet-sullivan",
   "metadata": {},
   "outputs": [],
   "source": [
    "L2, U2 = get_LU_sparse(csr_matrix(A))"
   ]
  },
  {
   "cell_type": "code",
   "execution_count": 8,
   "id": "coastal-devices",
   "metadata": {},
   "outputs": [
    {
     "data": {
      "text/html": [
       "<div>\n",
       "<style scoped>\n",
       "    .dataframe tbody tr th:only-of-type {\n",
       "        vertical-align: middle;\n",
       "    }\n",
       "\n",
       "    .dataframe tbody tr th {\n",
       "        vertical-align: top;\n",
       "    }\n",
       "\n",
       "    .dataframe thead th {\n",
       "        text-align: right;\n",
       "    }\n",
       "</style>\n",
       "<table border=\"1\" class=\"dataframe\">\n",
       "  <thead>\n",
       "    <tr style=\"text-align: right;\">\n",
       "      <th></th>\n",
       "      <th>0</th>\n",
       "      <th>1</th>\n",
       "      <th>2</th>\n",
       "      <th>3</th>\n",
       "      <th>4</th>\n",
       "      <th>5</th>\n",
       "    </tr>\n",
       "  </thead>\n",
       "  <tbody>\n",
       "    <tr>\n",
       "      <th>0</th>\n",
       "      <td>1.0</td>\n",
       "      <td>0.0</td>\n",
       "      <td>0.0</td>\n",
       "      <td>0.000000</td>\n",
       "      <td>0.000000</td>\n",
       "      <td>0.0</td>\n",
       "    </tr>\n",
       "    <tr>\n",
       "      <th>1</th>\n",
       "      <td>0.0</td>\n",
       "      <td>1.0</td>\n",
       "      <td>0.0</td>\n",
       "      <td>0.000000</td>\n",
       "      <td>0.000000</td>\n",
       "      <td>0.0</td>\n",
       "    </tr>\n",
       "    <tr>\n",
       "      <th>2</th>\n",
       "      <td>2.0</td>\n",
       "      <td>-1.0</td>\n",
       "      <td>1.0</td>\n",
       "      <td>0.000000</td>\n",
       "      <td>0.000000</td>\n",
       "      <td>0.0</td>\n",
       "    </tr>\n",
       "    <tr>\n",
       "      <th>3</th>\n",
       "      <td>7.0</td>\n",
       "      <td>-12.0</td>\n",
       "      <td>3.0</td>\n",
       "      <td>1.000000</td>\n",
       "      <td>0.000000</td>\n",
       "      <td>0.0</td>\n",
       "    </tr>\n",
       "    <tr>\n",
       "      <th>4</th>\n",
       "      <td>1.0</td>\n",
       "      <td>-2.0</td>\n",
       "      <td>1.0</td>\n",
       "      <td>0.160714</td>\n",
       "      <td>1.000000</td>\n",
       "      <td>0.0</td>\n",
       "    </tr>\n",
       "    <tr>\n",
       "      <th>5</th>\n",
       "      <td>1.0</td>\n",
       "      <td>-7.0</td>\n",
       "      <td>0.0</td>\n",
       "      <td>0.660714</td>\n",
       "      <td>-0.670644</td>\n",
       "      <td>1.0</td>\n",
       "    </tr>\n",
       "  </tbody>\n",
       "</table>\n",
       "</div>"
      ],
      "text/plain": [
       "     0     1    2         3         4    5\n",
       "0  1.0   0.0  0.0  0.000000  0.000000  0.0\n",
       "1  0.0   1.0  0.0  0.000000  0.000000  0.0\n",
       "2  2.0  -1.0  1.0  0.000000  0.000000  0.0\n",
       "3  7.0 -12.0  3.0  1.000000  0.000000  0.0\n",
       "4  1.0  -2.0  1.0  0.160714  1.000000  0.0\n",
       "5  1.0  -7.0  0.0  0.660714 -0.670644  1.0"
      ]
     },
     "execution_count": 8,
     "metadata": {},
     "output_type": "execute_result"
    }
   ],
   "source": [
    "pd.DataFrame(L2.todense())"
   ]
  },
  {
   "cell_type": "code",
   "execution_count": 9,
   "id": "cardiovascular-ebony",
   "metadata": {},
   "outputs": [
    {
     "data": {
      "text/html": [
       "<div>\n",
       "<style scoped>\n",
       "    .dataframe tbody tr th:only-of-type {\n",
       "        vertical-align: middle;\n",
       "    }\n",
       "\n",
       "    .dataframe tbody tr th {\n",
       "        vertical-align: top;\n",
       "    }\n",
       "\n",
       "    .dataframe thead th {\n",
       "        text-align: right;\n",
       "    }\n",
       "</style>\n",
       "<table border=\"1\" class=\"dataframe\">\n",
       "  <thead>\n",
       "    <tr style=\"text-align: right;\">\n",
       "      <th></th>\n",
       "      <th>0</th>\n",
       "      <th>1</th>\n",
       "      <th>2</th>\n",
       "      <th>3</th>\n",
       "      <th>4</th>\n",
       "      <th>5</th>\n",
       "    </tr>\n",
       "  </thead>\n",
       "  <tbody>\n",
       "    <tr>\n",
       "      <th>0</th>\n",
       "      <td>1.0</td>\n",
       "      <td>2.0</td>\n",
       "      <td>3.0</td>\n",
       "      <td>1.0</td>\n",
       "      <td>2.000000</td>\n",
       "      <td>1.000000</td>\n",
       "    </tr>\n",
       "    <tr>\n",
       "      <th>1</th>\n",
       "      <td>0.0</td>\n",
       "      <td>1.0</td>\n",
       "      <td>0.0</td>\n",
       "      <td>6.0</td>\n",
       "      <td>-1.000000</td>\n",
       "      <td>0.000000</td>\n",
       "    </tr>\n",
       "    <tr>\n",
       "      <th>2</th>\n",
       "      <td>0.0</td>\n",
       "      <td>0.0</td>\n",
       "      <td>-5.0</td>\n",
       "      <td>3.0</td>\n",
       "      <td>-7.000000</td>\n",
       "      <td>-3.000000</td>\n",
       "    </tr>\n",
       "    <tr>\n",
       "      <th>3</th>\n",
       "      <td>0.0</td>\n",
       "      <td>0.0</td>\n",
       "      <td>0.0</td>\n",
       "      <td>56.0</td>\n",
       "      <td>-3.000000</td>\n",
       "      <td>13.000000</td>\n",
       "    </tr>\n",
       "    <tr>\n",
       "      <th>4</th>\n",
       "      <td>0.0</td>\n",
       "      <td>0.0</td>\n",
       "      <td>0.0</td>\n",
       "      <td>0.0</td>\n",
       "      <td>7.482143</td>\n",
       "      <td>2.910714</td>\n",
       "    </tr>\n",
       "    <tr>\n",
       "      <th>5</th>\n",
       "      <td>0.0</td>\n",
       "      <td>0.0</td>\n",
       "      <td>0.0</td>\n",
       "      <td>0.0</td>\n",
       "      <td>0.000000</td>\n",
       "      <td>-7.637232</td>\n",
       "    </tr>\n",
       "  </tbody>\n",
       "</table>\n",
       "</div>"
      ],
      "text/plain": [
       "     0    1    2     3         4          5\n",
       "0  1.0  2.0  3.0   1.0  2.000000   1.000000\n",
       "1  0.0  1.0  0.0   6.0 -1.000000   0.000000\n",
       "2  0.0  0.0 -5.0   3.0 -7.000000  -3.000000\n",
       "3  0.0  0.0  0.0  56.0 -3.000000  13.000000\n",
       "4  0.0  0.0  0.0   0.0  7.482143   2.910714\n",
       "5  0.0  0.0  0.0   0.0  0.000000  -7.637232"
      ]
     },
     "execution_count": 9,
     "metadata": {},
     "output_type": "execute_result"
    }
   ],
   "source": [
    "pd.DataFrame(U2.todense())"
   ]
  },
  {
   "cell_type": "code",
   "execution_count": 10,
   "id": "fuzzy-conviction",
   "metadata": {},
   "outputs": [
    {
     "data": {
      "text/plain": [
       "matrix([[ 1.,  2.,  3.,  1.,  2.,  1.],\n",
       "        [ 0.,  1.,  0.,  6., -1.,  0.],\n",
       "        [ 2.,  3.,  1., -1., -2., -1.],\n",
       "        [ 7.,  2.,  6.,  0.,  2., 11.],\n",
       "        [ 1.,  0., -2.,  1.,  4.,  3.],\n",
       "        [ 1., -5.,  3., -4.,  2.,  0.]])"
      ]
     },
     "execution_count": 10,
     "metadata": {},
     "output_type": "execute_result"
    }
   ],
   "source": [
    "L2.todense() @ U2.todense()"
   ]
  },
  {
   "cell_type": "markdown",
   "id": "major-taxation",
   "metadata": {},
   "source": [
    "### Решение СЛАУ"
   ]
  },
  {
   "cell_type": "code",
   "execution_count": 11,
   "id": "disciplinary-pattern",
   "metadata": {},
   "outputs": [],
   "source": [
    "A = np.array([\n",
    "    [1, -1, 3, 1], \n",
    "    [4, -1, 5, 4],\n",
    "    [2, -2, 4, 1],\n",
    "    [1, -4, 5, -1]\n",
    "])\n",
    "\n",
    "b = np.array([5, 4, 6, 3])\n",
    "gt_solution = np.array([9, 18, 10, -16])"
   ]
  },
  {
   "cell_type": "code",
   "execution_count": 12,
   "id": "infrared-webster",
   "metadata": {},
   "outputs": [
    {
     "data": {
      "text/plain": [
       "array([  9.,  18.,  10., -16.])"
      ]
     },
     "execution_count": 12,
     "metadata": {},
     "output_type": "execute_result"
    }
   ],
   "source": [
    "solve_system(A, b)"
   ]
  },
  {
   "cell_type": "code",
   "execution_count": 13,
   "id": "engaged-filing",
   "metadata": {},
   "outputs": [
    {
     "data": {
      "text/plain": [
       "matrix([[  9.],\n",
       "        [ 18.],\n",
       "        [ 10.],\n",
       "        [-16.]])"
      ]
     },
     "execution_count": 13,
     "metadata": {},
     "output_type": "execute_result"
    }
   ],
   "source": [
    "solve_system_sparse(A, b).todense()"
   ]
  },
  {
   "cell_type": "markdown",
   "id": "sorted-tissue",
   "metadata": {},
   "source": [
    "#### Random matrix"
   ]
  },
  {
   "cell_type": "code",
   "execution_count": 14,
   "id": "stopped-estate",
   "metadata": {},
   "outputs": [],
   "source": [
    "A_rand = np.random.rand(6, 6) * 10000\n",
    "b_rand = np.random.rand(6) * 10000"
   ]
  },
  {
   "cell_type": "code",
   "execution_count": 15,
   "id": "overhead-transformation",
   "metadata": {
    "scrolled": true
   },
   "outputs": [
    {
     "data": {
      "text/plain": [
       "array([3539.77086852, 6664.13647486,  112.50033922,  494.23143706,\n",
       "       5443.26171297, 2996.50191931])"
      ]
     },
     "execution_count": 15,
     "metadata": {},
     "output_type": "execute_result"
    }
   ],
   "source": [
    "b_rand"
   ]
  },
  {
   "cell_type": "code",
   "execution_count": 16,
   "id": "social-holiday",
   "metadata": {},
   "outputs": [
    {
     "data": {
      "text/plain": [
       "array([ 4.50804286, -3.12469556, -0.26224487,  1.46475111,  1.36559649,\n",
       "       -1.20248095])"
      ]
     },
     "execution_count": 16,
     "metadata": {},
     "output_type": "execute_result"
    }
   ],
   "source": [
    "x1 = solve_system(A_rand, b_rand)\n",
    "x1"
   ]
  },
  {
   "cell_type": "code",
   "execution_count": 17,
   "id": "challenging-highway",
   "metadata": {},
   "outputs": [
    {
     "data": {
      "text/plain": [
       "array([3539.77086852, 6664.13647486,  112.50033922,  494.23143706,\n",
       "       5443.26171297, 2996.50191931])"
      ]
     },
     "execution_count": 17,
     "metadata": {},
     "output_type": "execute_result"
    }
   ],
   "source": [
    "A_rand @ x1"
   ]
  },
  {
   "cell_type": "code",
   "execution_count": 18,
   "id": "confirmed-workshop",
   "metadata": {},
   "outputs": [
    {
     "data": {
      "text/plain": [
       "matrix([[ 4.50804286],\n",
       "        [-3.12469556],\n",
       "        [-0.26224487],\n",
       "        [ 1.46475111],\n",
       "        [ 1.36559649],\n",
       "        [-1.20248095]])"
      ]
     },
     "execution_count": 18,
     "metadata": {},
     "output_type": "execute_result"
    }
   ],
   "source": [
    "x2 = solve_system_sparse(A_rand, b_rand)\n",
    "x2.todense()"
   ]
  },
  {
   "cell_type": "code",
   "execution_count": 19,
   "id": "entertaining-command",
   "metadata": {},
   "outputs": [
    {
     "data": {
      "text/plain": [
       "matrix([[3539.77086852],\n",
       "        [6664.13647486],\n",
       "        [ 112.50033922],\n",
       "        [ 494.23143706],\n",
       "        [5443.26171297],\n",
       "        [2996.50191931]])"
      ]
     },
     "execution_count": 19,
     "metadata": {},
     "output_type": "execute_result"
    }
   ],
   "source": [
    "A_rand @ x2.todense()"
   ]
  },
  {
   "cell_type": "markdown",
   "id": "italian-governor",
   "metadata": {},
   "source": [
    "### Inverse Matrix search"
   ]
  },
  {
   "cell_type": "code",
   "execution_count": 20,
   "id": "modified-evolution",
   "metadata": {},
   "outputs": [],
   "source": [
    "A = np.array([\n",
    "    [2, 1, 1, 0],\n",
    "    [3, 2, 0, 0],\n",
    "    [1, 1, 3, 4],\n",
    "    [2, -1, 2, 3]\n",
    "])"
   ]
  },
  {
   "cell_type": "code",
   "execution_count": 21,
   "id": "killing-launch",
   "metadata": {},
   "outputs": [
    {
     "data": {
      "text/plain": [
       "array([[ 0.0625 ,  0.1875 , -0.1875 ,  0.25   ],\n",
       "       [-0.09375,  0.21875,  0.28125, -0.375  ],\n",
       "       [ 0.96875, -0.59375,  0.09375, -0.125  ],\n",
       "       [-0.71875,  0.34375,  0.15625,  0.125  ]])"
      ]
     },
     "execution_count": 21,
     "metadata": {},
     "output_type": "execute_result"
    }
   ],
   "source": [
    "A_inverse_1 = get_inverse(A)\n",
    "A_inverse_1"
   ]
  },
  {
   "cell_type": "code",
   "execution_count": 22,
   "id": "toxic-wedding",
   "metadata": {},
   "outputs": [
    {
     "data": {
      "text/plain": [
       "array([[1., 0., 0., 0.],\n",
       "       [0., 1., 0., 0.],\n",
       "       [0., 0., 1., 0.],\n",
       "       [0., 0., 0., 1.]])"
      ]
     },
     "execution_count": 22,
     "metadata": {},
     "output_type": "execute_result"
    }
   ],
   "source": [
    "A @ A_inverse_1"
   ]
  },
  {
   "cell_type": "code",
   "execution_count": 26,
   "id": "synthetic-veteran",
   "metadata": {},
   "outputs": [
    {
     "data": {
      "text/plain": [
       "matrix([[ 0.0625 ,  0.1875 , -0.1875 ,  0.25   ],\n",
       "        [-0.09375,  0.21875,  0.28125, -0.375  ],\n",
       "        [ 0.96875, -0.59375,  0.09375, -0.125  ],\n",
       "        [-0.71875,  0.34375,  0.15625,  0.125  ]])"
      ]
     },
     "execution_count": 26,
     "metadata": {},
     "output_type": "execute_result"
    }
   ],
   "source": [
    "A_inverse_2 = get_inverse_sparse(A)\n",
    "A_inverse_2.todense()"
   ]
  },
  {
   "cell_type": "code",
   "execution_count": 27,
   "id": "greatest-country",
   "metadata": {},
   "outputs": [
    {
     "data": {
      "text/plain": [
       "array([[1., 0., 0., 0.],\n",
       "       [0., 1., 0., 0.],\n",
       "       [0., 0., 1., 0.],\n",
       "       [0., 0., 0., 1.]])"
      ]
     },
     "execution_count": 27,
     "metadata": {},
     "output_type": "execute_result"
    }
   ],
   "source": [
    "A @ A_inverse_2"
   ]
  },
  {
   "cell_type": "markdown",
   "id": "naked-bicycle",
   "metadata": {},
   "source": [
    "### Task 3. Matrix generation based on `k`"
   ]
  },
  {
   "cell_type": "code",
   "execution_count": 267,
   "id": "included-prospect",
   "metadata": {},
   "outputs": [],
   "source": [
    "def generate_eye_matrix(k):\n",
    "    matrix = np.zeros((k, k))\n",
    "    \n",
    "    values_set = [0, -1, -2, -3, -4] \n",
    "    \n",
    "    for i in range(k):\n",
    "        for j in range(k):\n",
    "            if i != j:\n",
    "                matrix[i, j] = np.random.choice(values_set)\n",
    "                \n",
    "    for i in range(k):\n",
    "        matrix[i, i] = matrix[i, :].sum() + 10 ** (-k)\n",
    "                \n",
    "    return matrix\n",
    "\n",
    "\n",
    "def conduct_experiment(k, num_exp, generate_fn):\n",
    "    solutions = list()\n",
    "    errors = list()\n",
    "    \n",
    "    x = np.arange(k, dtype=float) + 1\n",
    "    \n",
    "    for i in range(num_exp):\n",
    "        A = generate_fn(k)\n",
    "        \n",
    "        F = A @ x\n",
    "        solution = solve_system(A, F)\n",
    "                \n",
    "        error = np.linalg.norm(x - solution)\n",
    "        \n",
    "        if np.isnan(error):\n",
    "            error = 0.0\n",
    "        \n",
    "        errors.append(error)\n",
    "        solutions.append(solution)\n",
    "        \n",
    "    best_solution = solutions[np.argmin(errors)]\n",
    "    mean_error = np.mean(errors)\n",
    "    std_error = np.std(errors)\n",
    "    \n",
    "    return best_solution, mean_error, std_error\n",
    "\n",
    "\n",
    "def conduct_experiments(list_of_ks, num_exps, generate_fn):\n",
    "    agg_dict = dict(k=list(), mean_error=list(), std_error=list(), solution=list())\n",
    "\n",
    "    for k in list_of_ks:\n",
    "        solution, mean_error, std_error = conduct_experiment(k, num_exps, generate_fn)\n",
    "\n",
    "        agg_dict['k'].append(k)\n",
    "        agg_dict['mean_error'].append(mean_error)\n",
    "        agg_dict['std_error'].append(std_error)\n",
    "        agg_dict['solution'].append(solution)\n",
    "        \n",
    "        \n",
    "    plt.plot(agg_dict['k'], agg_dict['mean_error'])\n",
    "    plt.title('Зависимость нормы ошибки от числа обусловленности')\n",
    "    plt.xlabel('K')\n",
    "    plt.ylabel('Error norm')\n",
    "    plt.show()\n",
    "\n",
    "    df_to_show = pd.DataFrame.from_dict(agg_dict)\n",
    "    df_to_show.set_index('k', inplace=True)\n",
    "    \n",
    "    return df_to_show"
   ]
  },
  {
   "cell_type": "code",
   "execution_count": 268,
   "id": "tropical-monster",
   "metadata": {},
   "outputs": [
    {
     "data": {
      "image/png": "[encoded data removed]",
      "text/plain": [
       "<Figure size 432x288 with 1 Axes>"
      ]
     },
     "metadata": {
      "needs_background": "light"
     },
     "output_type": "display_data"
    },
    {
     "data": {
      "text/html": [
       "<div>\n",
       "<style scoped>\n",
       "    .dataframe tbody tr th:only-of-type {\n",
       "        vertical-align: middle;\n",
       "    }\n",
       "\n",
       "    .dataframe tbody tr th {\n",
       "        vertical-align: top;\n",
       "    }\n",
       "\n",
       "    .dataframe thead th {\n",
       "        text-align: right;\n",
       "    }\n",
       "</style>\n",
       "<table border=\"1\" class=\"dataframe\">\n",
       "  <thead>\n",
       "    <tr style=\"text-align: right;\">\n",
       "      <th></th>\n",
       "      <th>mean_error</th>\n",
       "      <th>std_error</th>\n",
       "      <th>solution</th>\n",
       "    </tr>\n",
       "    <tr>\n",
       "      <th>k</th>\n",
       "      <th></th>\n",
       "      <th></th>\n",
       "      <th></th>\n",
       "    </tr>\n",
       "  </thead>\n",
       "  <tbody>\n",
       "    <tr>\n",
       "      <th>1</th>\n",
       "      <td>0.000000e+00</td>\n",
       "      <td>0.000000e+00</td>\n",
       "      <td>[1.0]</td>\n",
       "    </tr>\n",
       "    <tr>\n",
       "      <th>2</th>\n",
       "      <td>8.881784e-17</td>\n",
       "      <td>1.776357e-16</td>\n",
       "      <td>[1.0, 2.0]</td>\n",
       "    </tr>\n",
       "    <tr>\n",
       "      <th>3</th>\n",
       "      <td>1.117354e-15</td>\n",
       "      <td>6.251975e-16</td>\n",
       "      <td>[0.9999999999999997, 2.0000000000000004, 3.000...</td>\n",
       "    </tr>\n",
       "    <tr>\n",
       "      <th>4</th>\n",
       "      <td>1.042506e-15</td>\n",
       "      <td>5.373614e-16</td>\n",
       "      <td>[1.0, 2.0, 3.0, 4.0]</td>\n",
       "    </tr>\n",
       "    <tr>\n",
       "      <th>5</th>\n",
       "      <td>1.556549e-15</td>\n",
       "      <td>3.721389e-16</td>\n",
       "      <td>[0.9999999999999997, 2.0000000000000004, 3.000...</td>\n",
       "    </tr>\n",
       "    <tr>\n",
       "      <th>6</th>\n",
       "      <td>1.896577e-15</td>\n",
       "      <td>4.601251e-16</td>\n",
       "      <td>[1.0000000000000002, 1.9999999999999998, 3.0, ...</td>\n",
       "    </tr>\n",
       "    <tr>\n",
       "      <th>7</th>\n",
       "      <td>1.669430e-15</td>\n",
       "      <td>4.284356e-16</td>\n",
       "      <td>[1.0000000000000004, 1.9999999999999998, 3.0, ...</td>\n",
       "    </tr>\n",
       "    <tr>\n",
       "      <th>8</th>\n",
       "      <td>2.761608e-15</td>\n",
       "      <td>5.860748e-16</td>\n",
       "      <td>[1.0, 1.9999999999999993, 3.0000000000000004, ...</td>\n",
       "    </tr>\n",
       "    <tr>\n",
       "      <th>9</th>\n",
       "      <td>3.298132e-15</td>\n",
       "      <td>1.026571e-15</td>\n",
       "      <td>[0.9999999999999998, 1.9999999999999987, 2.999...</td>\n",
       "    </tr>\n",
       "    <tr>\n",
       "      <th>10</th>\n",
       "      <td>3.083396e-15</td>\n",
       "      <td>5.559288e-16</td>\n",
       "      <td>[0.9999999999999999, 2.000000000000001, 2.9999...</td>\n",
       "    </tr>\n",
       "    <tr>\n",
       "      <th>11</th>\n",
       "      <td>4.701417e-15</td>\n",
       "      <td>7.494231e-16</td>\n",
       "      <td>[0.9999999999999998, 2.0, 2.9999999999999996, ...</td>\n",
       "    </tr>\n",
       "    <tr>\n",
       "      <th>12</th>\n",
       "      <td>3.533029e-15</td>\n",
       "      <td>7.101588e-16</td>\n",
       "      <td>[1.0000000000000002, 2.0, 2.999999999999999, 4...</td>\n",
       "    </tr>\n",
       "    <tr>\n",
       "      <th>13</th>\n",
       "      <td>4.070655e-15</td>\n",
       "      <td>1.031153e-15</td>\n",
       "      <td>[0.9999999999999993, 2.0, 3.0, 3.9999999999999...</td>\n",
       "    </tr>\n",
       "    <tr>\n",
       "      <th>14</th>\n",
       "      <td>5.826448e-15</td>\n",
       "      <td>3.886052e-16</td>\n",
       "      <td>[1.0000000000000004, 2.000000000000001, 3.0, 3...</td>\n",
       "    </tr>\n",
       "    <tr>\n",
       "      <th>15</th>\n",
       "      <td>3.571150e-15</td>\n",
       "      <td>8.348455e-16</td>\n",
       "      <td>[1.0, 2.0, 3.0000000000000004, 3.9999999999999...</td>\n",
       "    </tr>\n",
       "    <tr>\n",
       "      <th>16</th>\n",
       "      <td>3.397008e-15</td>\n",
       "      <td>9.459156e-16</td>\n",
       "      <td>[1.0, 1.9999999999999996, 3.0, 3.9999999999999...</td>\n",
       "    </tr>\n",
       "    <tr>\n",
       "      <th>17</th>\n",
       "      <td>4.643774e-15</td>\n",
       "      <td>1.379847e-15</td>\n",
       "      <td>[1.0, 2.0, 3.0, 4.000000000000001, 5.0, 6.0000...</td>\n",
       "    </tr>\n",
       "    <tr>\n",
       "      <th>18</th>\n",
       "      <td>5.234134e-15</td>\n",
       "      <td>8.753149e-16</td>\n",
       "      <td>[1.0, 2.0, 2.999999999999999, 4.00000000000000...</td>\n",
       "    </tr>\n",
       "    <tr>\n",
       "      <th>19</th>\n",
       "      <td>5.932617e-15</td>\n",
       "      <td>1.006368e-15</td>\n",
       "      <td>[1.0, 2.0000000000000013, 3.0, 4.0, 5.0, 5.999...</td>\n",
       "    </tr>\n",
       "    <tr>\n",
       "      <th>20</th>\n",
       "      <td>6.456248e-15</td>\n",
       "      <td>1.040663e-15</td>\n",
       "      <td>[1.0, 2.0, 2.9999999999999996, 3.9999999999999...</td>\n",
       "    </tr>\n",
       "    <tr>\n",
       "      <th>21</th>\n",
       "      <td>6.745387e-15</td>\n",
       "      <td>1.427754e-15</td>\n",
       "      <td>[1.0, 2.0, 2.9999999999999996, 3.9999999999999...</td>\n",
       "    </tr>\n",
       "    <tr>\n",
       "      <th>22</th>\n",
       "      <td>6.126235e-15</td>\n",
       "      <td>1.438770e-15</td>\n",
       "      <td>[1.0, 2.0000000000000004, 3.000000000000001, 4...</td>\n",
       "    </tr>\n",
       "    <tr>\n",
       "      <th>23</th>\n",
       "      <td>6.841385e-15</td>\n",
       "      <td>7.327777e-16</td>\n",
       "      <td>[1.0, 2.0, 2.9999999999999996, 3.9999999999999...</td>\n",
       "    </tr>\n",
       "    <tr>\n",
       "      <th>24</th>\n",
       "      <td>8.194016e-15</td>\n",
       "      <td>2.316093e-15</td>\n",
       "      <td>[1.0, 2.0, 3.0, 3.9999999999999996, 5.0, 5.999...</td>\n",
       "    </tr>\n",
       "    <tr>\n",
       "      <th>25</th>\n",
       "      <td>9.177743e-15</td>\n",
       "      <td>1.418189e-15</td>\n",
       "      <td>[1.0, 2.0000000000000004, 3.0000000000000004, ...</td>\n",
       "    </tr>\n",
       "    <tr>\n",
       "      <th>26</th>\n",
       "      <td>9.049640e-15</td>\n",
       "      <td>1.739220e-15</td>\n",
       "      <td>[1.0, 2.0000000000000004, 2.999999999999999, 3...</td>\n",
       "    </tr>\n",
       "    <tr>\n",
       "      <th>27</th>\n",
       "      <td>1.091286e-14</td>\n",
       "      <td>1.049897e-15</td>\n",
       "      <td>[1.0, 2.0, 3.0, 3.9999999999999973, 4.99999999...</td>\n",
       "    </tr>\n",
       "    <tr>\n",
       "      <th>28</th>\n",
       "      <td>1.151274e-14</td>\n",
       "      <td>1.602765e-15</td>\n",
       "      <td>[1.0, 1.9999999999999976, 3.0, 4.0000000000000...</td>\n",
       "    </tr>\n",
       "    <tr>\n",
       "      <th>29</th>\n",
       "      <td>1.080085e-14</td>\n",
       "      <td>1.201678e-15</td>\n",
       "      <td>[1.0, 2.0, 3.000000000000002, 4.0, 4.999999999...</td>\n",
       "    </tr>\n",
       "  </tbody>\n",
       "</table>\n",
       "</div>"
      ],
      "text/plain": [
       "      mean_error     std_error  \\\n",
       "k                                \n",
       "1   0.000000e+00  0.000000e+00   \n",
       "2   8.881784e-17  1.776357e-16   \n",
       "3   1.117354e-15  6.251975e-16   \n",
       "4   1.042506e-15  5.373614e-16   \n",
       "5   1.556549e-15  3.721389e-16   \n",
       "6   1.896577e-15  4.601251e-16   \n",
       "7   1.669430e-15  4.284356e-16   \n",
       "8   2.761608e-15  5.860748e-16   \n",
       "9   3.298132e-15  1.026571e-15   \n",
       "10  3.083396e-15  5.559288e-16   \n",
       "11  4.701417e-15  7.494231e-16   \n",
       "12  3.533029e-15  7.101588e-16   \n",
       "13  4.070655e-15  1.031153e-15   \n",
       "14  5.826448e-15  3.886052e-16   \n",
       "15  3.571150e-15  8.348455e-16   \n",
       "16  3.397008e-15  9.459156e-16   \n",
       "17  4.643774e-15  1.379847e-15   \n",
       "18  5.234134e-15  8.753149e-16   \n",
       "19  5.932617e-15  1.006368e-15   \n",
       "20  6.456248e-15  1.040663e-15   \n",
       "21  6.745387e-15  1.427754e-15   \n",
       "22  6.126235e-15  1.438770e-15   \n",
       "23  6.841385e-15  7.327777e-16   \n",
       "24  8.194016e-15  2.316093e-15   \n",
       "25  9.177743e-15  1.418189e-15   \n",
       "26  9.049640e-15  1.739220e-15   \n",
       "27  1.091286e-14  1.049897e-15   \n",
       "28  1.151274e-14  1.602765e-15   \n",
       "29  1.080085e-14  1.201678e-15   \n",
       "\n",
       "                                             solution  \n",
       "k                                                      \n",
       "1                                               [1.0]  \n",
       "2                                          [1.0, 2.0]  \n",
       "3   [0.9999999999999997, 2.0000000000000004, 3.000...  \n",
       "4                                [1.0, 2.0, 3.0, 4.0]  \n",
       "5   [0.9999999999999997, 2.0000000000000004, 3.000...  \n",
       "6   [1.0000000000000002, 1.9999999999999998, 3.0, ...  \n",
       "7   [1.0000000000000004, 1.9999999999999998, 3.0, ...  \n",
       "8   [1.0, 1.9999999999999993, 3.0000000000000004, ...  \n",
       "9   [0.9999999999999998, 1.9999999999999987, 2.999...  \n",
       "10  [0.9999999999999999, 2.000000000000001, 2.9999...  \n",
       "11  [0.9999999999999998, 2.0, 2.9999999999999996, ...  \n",
       "12  [1.0000000000000002, 2.0, 2.999999999999999, 4...  \n",
       "13  [0.9999999999999993, 2.0, 3.0, 3.9999999999999...  \n",
       "14  [1.0000000000000004, 2.000000000000001, 3.0, 3...  \n",
       "15  [1.0, 2.0, 3.0000000000000004, 3.9999999999999...  \n",
       "16  [1.0, 1.9999999999999996, 3.0, 3.9999999999999...  \n",
       "17  [1.0, 2.0, 3.0, 4.000000000000001, 5.0, 6.0000...  \n",
       "18  [1.0, 2.0, 2.999999999999999, 4.00000000000000...  \n",
       "19  [1.0, 2.0000000000000013, 3.0, 4.0, 5.0, 5.999...  \n",
       "20  [1.0, 2.0, 2.9999999999999996, 3.9999999999999...  \n",
       "21  [1.0, 2.0, 2.9999999999999996, 3.9999999999999...  \n",
       "22  [1.0, 2.0000000000000004, 3.000000000000001, 4...  \n",
       "23  [1.0, 2.0, 2.9999999999999996, 3.9999999999999...  \n",
       "24  [1.0, 2.0, 3.0, 3.9999999999999996, 5.0, 5.999...  \n",
       "25  [1.0, 2.0000000000000004, 3.0000000000000004, ...  \n",
       "26  [1.0, 2.0000000000000004, 2.999999999999999, 3...  \n",
       "27  [1.0, 2.0, 3.0, 3.9999999999999973, 4.99999999...  \n",
       "28  [1.0, 1.9999999999999976, 3.0, 4.0000000000000...  \n",
       "29  [1.0, 2.0, 3.000000000000002, 4.0, 4.999999999...  "
      ]
     },
     "execution_count": 268,
     "metadata": {},
     "output_type": "execute_result"
    }
   ],
   "source": [
    "df_to_show = conduct_experiments(list(range(1, 30)), 5, generate_eye_matrix)\n",
    "df_to_show"
   ]
  },
  {
   "cell_type": "markdown",
   "id": "deluxe-poverty",
   "metadata": {},
   "source": [
    "### Task 4. Gilbert matrix generation based on `k`"
   ]
  },
  {
   "cell_type": "code",
   "execution_count": 269,
   "id": "suburban-measure",
   "metadata": {},
   "outputs": [],
   "source": [
    "def generate_gilbert_matrix(k):\n",
    "    matrix = np.zeros((k, k))\n",
    "    \n",
    "    for i in range(k):\n",
    "        for j in range(k):\n",
    "            matrix[i, j] = 1 / ((i+1) + (j+1) - 1)\n",
    "            \n",
    "    return matrix"
   ]
  },
  {
   "cell_type": "code",
   "execution_count": 270,
   "id": "hairy-suspect",
   "metadata": {},
   "outputs": [
    {
     "data": {
      "image/png": "[encoded data removed]",
      "text/plain": [
       "<Figure size 432x288 with 1 Axes>"
      ]
     },
     "metadata": {
      "needs_background": "light"
     },
     "output_type": "display_data"
    },
    {
     "data": {
      "text/html": [
       "<div>\n",
       "<style scoped>\n",
       "    .dataframe tbody tr th:only-of-type {\n",
       "        vertical-align: middle;\n",
       "    }\n",
       "\n",
       "    .dataframe tbody tr th {\n",
       "        vertical-align: top;\n",
       "    }\n",
       "\n",
       "    .dataframe thead th {\n",
       "        text-align: right;\n",
       "    }\n",
       "</style>\n",
       "<table border=\"1\" class=\"dataframe\">\n",
       "  <thead>\n",
       "    <tr style=\"text-align: right;\">\n",
       "      <th></th>\n",
       "      <th>mean_error</th>\n",
       "      <th>std_error</th>\n",
       "      <th>solution</th>\n",
       "    </tr>\n",
       "    <tr>\n",
       "      <th>k</th>\n",
       "      <th></th>\n",
       "      <th></th>\n",
       "      <th></th>\n",
       "    </tr>\n",
       "  </thead>\n",
       "  <tbody>\n",
       "    <tr>\n",
       "      <th>1</th>\n",
       "      <td>0.000000e+00</td>\n",
       "      <td>0.000000e+00</td>\n",
       "      <td>[1.0]</td>\n",
       "    </tr>\n",
       "    <tr>\n",
       "      <th>2</th>\n",
       "      <td>1.489520e-15</td>\n",
       "      <td>1.972152e-31</td>\n",
       "      <td>[1.0000000000000007, 1.9999999999999987]</td>\n",
       "    </tr>\n",
       "    <tr>\n",
       "      <th>3</th>\n",
       "      <td>1.489520e-15</td>\n",
       "      <td>1.972152e-31</td>\n",
       "      <td>[1.0000000000000007, 1.9999999999999987, 3.0]</td>\n",
       "    </tr>\n",
       "    <tr>\n",
       "      <th>4</th>\n",
       "      <td>2.430120e-12</td>\n",
       "      <td>0.000000e+00</td>\n",
       "      <td>[0.9999999999999276, 2.000000000000806, 2.9999...</td>\n",
       "    </tr>\n",
       "    <tr>\n",
       "      <th>5</th>\n",
       "      <td>1.919365e-11</td>\n",
       "      <td>0.000000e+00</td>\n",
       "      <td>[1.0000000000001128, 1.999999999997835, 3.0000...</td>\n",
       "    </tr>\n",
       "    <tr>\n",
       "      <th>6</th>\n",
       "      <td>3.442918e-09</td>\n",
       "      <td>0.000000e+00</td>\n",
       "      <td>[0.999999999995608, 2.0000000001242566, 2.9999...</td>\n",
       "    </tr>\n",
       "    <tr>\n",
       "      <th>7</th>\n",
       "      <td>1.149105e-08</td>\n",
       "      <td>0.000000e+00</td>\n",
       "      <td>[0.999999999999158, 1.9999999999806435, 3.0000...</td>\n",
       "    </tr>\n",
       "    <tr>\n",
       "      <th>8</th>\n",
       "      <td>3.270079e-06</td>\n",
       "      <td>0.000000e+00</td>\n",
       "      <td>[1.0000000001563363, 1.9999999916361237, 3.000...</td>\n",
       "    </tr>\n",
       "    <tr>\n",
       "      <th>9</th>\n",
       "      <td>3.032138e-04</td>\n",
       "      <td>0.000000e+00</td>\n",
       "      <td>[1.0000000028206424, 1.9999998066929483, 3.000...</td>\n",
       "    </tr>\n",
       "    <tr>\n",
       "      <th>10</th>\n",
       "      <td>7.759767e-03</td>\n",
       "      <td>8.673617e-19</td>\n",
       "      <td>[1.0000000136553133, 1.9999988270640796, 3.000...</td>\n",
       "    </tr>\n",
       "    <tr>\n",
       "      <th>11</th>\n",
       "      <td>1.442152e-01</td>\n",
       "      <td>0.000000e+00</td>\n",
       "      <td>[1.0000000475181139, 1.999995007767851, 3.0001...</td>\n",
       "    </tr>\n",
       "    <tr>\n",
       "      <th>12</th>\n",
       "      <td>6.058271e+00</td>\n",
       "      <td>0.000000e+00</td>\n",
       "      <td>[0.9999996491677123, 2.0000448054847237, 2.998...</td>\n",
       "    </tr>\n",
       "    <tr>\n",
       "      <th>13</th>\n",
       "      <td>2.494245e+02</td>\n",
       "      <td>2.842171e-14</td>\n",
       "      <td>[1.0000026594974543, 1.9995984089584629, 3.015...</td>\n",
       "    </tr>\n",
       "    <tr>\n",
       "      <th>14</th>\n",
       "      <td>6.076130e+01</td>\n",
       "      <td>0.000000e+00</td>\n",
       "      <td>[1.0000006404824227, 1.9999041341682404, 3.003...</td>\n",
       "    </tr>\n",
       "    <tr>\n",
       "      <th>15</th>\n",
       "      <td>1.094791e+02</td>\n",
       "      <td>0.000000e+00</td>\n",
       "      <td>[1.0000000139536809, 1.9999937627229731, 3.000...</td>\n",
       "    </tr>\n",
       "    <tr>\n",
       "      <th>16</th>\n",
       "      <td>3.556448e+02</td>\n",
       "      <td>0.000000e+00</td>\n",
       "      <td>[0.9999954425129118, 2.0007104569686196, 2.972...</td>\n",
       "    </tr>\n",
       "    <tr>\n",
       "      <th>17</th>\n",
       "      <td>1.133323e+02</td>\n",
       "      <td>0.000000e+00</td>\n",
       "      <td>[1.0000008936166402, 1.9998741010943566, 3.004...</td>\n",
       "    </tr>\n",
       "    <tr>\n",
       "      <th>18</th>\n",
       "      <td>9.133621e+02</td>\n",
       "      <td>1.136868e-13</td>\n",
       "      <td>[0.9999960843696982, 2.000688300988657, 2.9703...</td>\n",
       "    </tr>\n",
       "    <tr>\n",
       "      <th>19</th>\n",
       "      <td>3.458537e+02</td>\n",
       "      <td>0.000000e+00</td>\n",
       "      <td>[0.9999988034387286, 2.000185042379535, 2.9929...</td>\n",
       "    </tr>\n",
       "    <tr>\n",
       "      <th>20</th>\n",
       "      <td>4.151004e+02</td>\n",
       "      <td>0.000000e+00</td>\n",
       "      <td>[1.000000720715974, 1.9998771511350353, 3.0052...</td>\n",
       "    </tr>\n",
       "    <tr>\n",
       "      <th>21</th>\n",
       "      <td>2.082208e+03</td>\n",
       "      <td>0.000000e+00</td>\n",
       "      <td>[1.0000259849263387, 1.9959076691466469, 3.158...</td>\n",
       "    </tr>\n",
       "    <tr>\n",
       "      <th>22</th>\n",
       "      <td>4.137219e+02</td>\n",
       "      <td>0.000000e+00</td>\n",
       "      <td>[1.0000016130549163, 1.9997082520268212, 3.012...</td>\n",
       "    </tr>\n",
       "    <tr>\n",
       "      <th>23</th>\n",
       "      <td>8.479928e+02</td>\n",
       "      <td>0.000000e+00</td>\n",
       "      <td>[1.0000003715887935, 1.9998889929235237, 3.006...</td>\n",
       "    </tr>\n",
       "    <tr>\n",
       "      <th>24</th>\n",
       "      <td>2.093371e+03</td>\n",
       "      <td>0.000000e+00</td>\n",
       "      <td>[1.0000138204999587, 1.9976394674403228, 3.099...</td>\n",
       "    </tr>\n",
       "    <tr>\n",
       "      <th>25</th>\n",
       "      <td>7.350512e+03</td>\n",
       "      <td>0.000000e+00</td>\n",
       "      <td>[1.000043660302481, 1.9925066155472995, 3.3161...</td>\n",
       "    </tr>\n",
       "    <tr>\n",
       "      <th>26</th>\n",
       "      <td>1.817237e+03</td>\n",
       "      <td>2.273737e-13</td>\n",
       "      <td>[0.9999949493913505, 2.000873014876959, 2.9621...</td>\n",
       "    </tr>\n",
       "    <tr>\n",
       "      <th>27</th>\n",
       "      <td>8.110889e+03</td>\n",
       "      <td>0.000000e+00</td>\n",
       "      <td>[1.0000404152198143, 1.9930290253638678, 3.299...</td>\n",
       "    </tr>\n",
       "    <tr>\n",
       "      <th>28</th>\n",
       "      <td>3.919371e+03</td>\n",
       "      <td>0.000000e+00</td>\n",
       "      <td>[1.0000154187364387, 1.9972847529307818, 3.118...</td>\n",
       "    </tr>\n",
       "    <tr>\n",
       "      <th>29</th>\n",
       "      <td>5.248433e+03</td>\n",
       "      <td>0.000000e+00</td>\n",
       "      <td>[1.0000198062789423, 1.9965657571480624, 3.148...</td>\n",
       "    </tr>\n",
       "  </tbody>\n",
       "</table>\n",
       "</div>"
      ],
      "text/plain": [
       "      mean_error     std_error  \\\n",
       "k                                \n",
       "1   0.000000e+00  0.000000e+00   \n",
       "2   1.489520e-15  1.972152e-31   \n",
       "3   1.489520e-15  1.972152e-31   \n",
       "4   2.430120e-12  0.000000e+00   \n",
       "5   1.919365e-11  0.000000e+00   \n",
       "6   3.442918e-09  0.000000e+00   \n",
       "7   1.149105e-08  0.000000e+00   \n",
       "8   3.270079e-06  0.000000e+00   \n",
       "9   3.032138e-04  0.000000e+00   \n",
       "10  7.759767e-03  8.673617e-19   \n",
       "11  1.442152e-01  0.000000e+00   \n",
       "12  6.058271e+00  0.000000e+00   \n",
       "13  2.494245e+02  2.842171e-14   \n",
       "14  6.076130e+01  0.000000e+00   \n",
       "15  1.094791e+02  0.000000e+00   \n",
       "16  3.556448e+02  0.000000e+00   \n",
       "17  1.133323e+02  0.000000e+00   \n",
       "18  9.133621e+02  1.136868e-13   \n",
       "19  3.458537e+02  0.000000e+00   \n",
       "20  4.151004e+02  0.000000e+00   \n",
       "21  2.082208e+03  0.000000e+00   \n",
       "22  4.137219e+02  0.000000e+00   \n",
       "23  8.479928e+02  0.000000e+00   \n",
       "24  2.093371e+03  0.000000e+00   \n",
       "25  7.350512e+03  0.000000e+00   \n",
       "26  1.817237e+03  2.273737e-13   \n",
       "27  8.110889e+03  0.000000e+00   \n",
       "28  3.919371e+03  0.000000e+00   \n",
       "29  5.248433e+03  0.000000e+00   \n",
       "\n",
       "                                             solution  \n",
       "k                                                      \n",
       "1                                               [1.0]  \n",
       "2            [1.0000000000000007, 1.9999999999999987]  \n",
       "3       [1.0000000000000007, 1.9999999999999987, 3.0]  \n",
       "4   [0.9999999999999276, 2.000000000000806, 2.9999...  \n",
       "5   [1.0000000000001128, 1.999999999997835, 3.0000...  \n",
       "6   [0.999999999995608, 2.0000000001242566, 2.9999...  \n",
       "7   [0.999999999999158, 1.9999999999806435, 3.0000...  \n",
       "8   [1.0000000001563363, 1.9999999916361237, 3.000...  \n",
       "9   [1.0000000028206424, 1.9999998066929483, 3.000...  \n",
       "10  [1.0000000136553133, 1.9999988270640796, 3.000...  \n",
       "11  [1.0000000475181139, 1.999995007767851, 3.0001...  \n",
       "12  [0.9999996491677123, 2.0000448054847237, 2.998...  \n",
       "13  [1.0000026594974543, 1.9995984089584629, 3.015...  \n",
       "14  [1.0000006404824227, 1.9999041341682404, 3.003...  \n",
       "15  [1.0000000139536809, 1.9999937627229731, 3.000...  \n",
       "16  [0.9999954425129118, 2.0007104569686196, 2.972...  \n",
       "17  [1.0000008936166402, 1.9998741010943566, 3.004...  \n",
       "18  [0.9999960843696982, 2.000688300988657, 2.9703...  \n",
       "19  [0.9999988034387286, 2.000185042379535, 2.9929...  \n",
       "20  [1.000000720715974, 1.9998771511350353, 3.0052...  \n",
       "21  [1.0000259849263387, 1.9959076691466469, 3.158...  \n",
       "22  [1.0000016130549163, 1.9997082520268212, 3.012...  \n",
       "23  [1.0000003715887935, 1.9998889929235237, 3.006...  \n",
       "24  [1.0000138204999587, 1.9976394674403228, 3.099...  \n",
       "25  [1.000043660302481, 1.9925066155472995, 3.3161...  \n",
       "26  [0.9999949493913505, 2.000873014876959, 2.9621...  \n",
       "27  [1.0000404152198143, 1.9930290253638678, 3.299...  \n",
       "28  [1.0000154187364387, 1.9972847529307818, 3.118...  \n",
       "29  [1.0000198062789423, 1.9965657571480624, 3.148...  "
      ]
     },
     "execution_count": 270,
     "metadata": {},
     "output_type": "execute_result"
    }
   ],
   "source": [
    "df_to_show = conduct_experiments(list(range(1, 30)), 5, generate_gilbert_matrix)\n",
    "df_to_show"
   ]
  },
  {
   "cell_type": "markdown",
   "id": "apart-television",
   "metadata": {},
   "source": [
    "### Выводы"
   ]
  }
 ],
 "metadata": {
  "kernelspec": {
   "display_name": "Python 3",
   "language": "python",
   "name": "python3"
  },
  "language_info": {
   "codemirror_mode": {
    "name": "ipython",
    "version": 3
   },
   "file_extension": ".py",
   "mimetype": "text/x-python",
   "name": "python",
   "nbconvert_exporter": "python",
   "pygments_lexer": "ipython3",
   "version": "3.8.5"
  }
 },
 "nbformat": 4,
 "nbformat_minor": 5
}
