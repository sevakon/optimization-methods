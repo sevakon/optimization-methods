{
 "cells": [
  {
   "cell_type": "markdown",
   "id": "outstanding-slave",
   "metadata": {},
   "source": [
    "### Смиирнов Николай M3303, Коняхин Всеволод M3305\n",
    "### Методы оптимизации. LU-Разложение"
   ]
  },
  {
   "cell_type": "code",
   "execution_count": 1,
   "id": "incident-pantyhose",
   "metadata": {},
   "outputs": [],
   "source": [
    "import numpy as np\n",
    "import pandas as pd\n",
    "\n",
    "from scipy.sparse import csr_matrix, dok_matrix, lil_matrix"
   ]
  },
  {
   "cell_type": "markdown",
   "id": "coastal-injection",
   "metadata": {},
   "source": [
    "### Имплементация"
   ]
  },
  {
   "cell_type": "code",
   "execution_count": 2,
   "id": "material-shell",
   "metadata": {},
   "outputs": [],
   "source": [
    "from methods import get_LU, solve_system, get_inverse\n",
    "from sparse_methods import get_LU_sparse, solve_system_sparse, get_inverse_sparse"
   ]
  },
  {
   "cell_type": "markdown",
   "id": "built-entrance",
   "metadata": {},
   "source": [
    "### LU Decomposition-test"
   ]
  },
  {
   "cell_type": "code",
   "execution_count": 3,
   "id": "italian-brass",
   "metadata": {},
   "outputs": [],
   "source": [
    "A = np.array([\n",
    "    [1, 2, 3, 1, 2, 1], \n",
    "    [0, 1, 0, 6, -1, 0], \n",
    "    [2, 3, 1, -1, -2, -1], \n",
    "    [7, 2, 6, 0, 2, 11], \n",
    "    [1, 0, -2, 1, 4, 3], \n",
    "    [1, -5, 3, -4, 2, 0], \n",
    "])\n",
    "\n",
    "L1, U1 = get_LU(A)"
   ]
  },
  {
   "cell_type": "code",
   "execution_count": 4,
   "id": "incident-smell",
   "metadata": {},
   "outputs": [
    {
     "data": {
      "text/html": [
       "<div>\n",
       "<style scoped>\n",
       "    .dataframe tbody tr th:only-of-type {\n",
       "        vertical-align: middle;\n",
       "    }\n",
       "\n",
       "    .dataframe tbody tr th {\n",
       "        vertical-align: top;\n",
       "    }\n",
       "\n",
       "    .dataframe thead th {\n",
       "        text-align: right;\n",
       "    }\n",
       "</style>\n",
       "<table border=\"1\" class=\"dataframe\">\n",
       "  <thead>\n",
       "    <tr style=\"text-align: right;\">\n",
       "      <th></th>\n",
       "      <th>0</th>\n",
       "      <th>1</th>\n",
       "      <th>2</th>\n",
       "      <th>3</th>\n",
       "      <th>4</th>\n",
       "      <th>5</th>\n",
       "    </tr>\n",
       "  </thead>\n",
       "  <tbody>\n",
       "    <tr>\n",
       "      <th>0</th>\n",
       "      <td>1.0</td>\n",
       "      <td>0.0</td>\n",
       "      <td>0.0</td>\n",
       "      <td>0.000000</td>\n",
       "      <td>0.000000</td>\n",
       "      <td>0.0</td>\n",
       "    </tr>\n",
       "    <tr>\n",
       "      <th>1</th>\n",
       "      <td>0.0</td>\n",
       "      <td>1.0</td>\n",
       "      <td>0.0</td>\n",
       "      <td>0.000000</td>\n",
       "      <td>0.000000</td>\n",
       "      <td>0.0</td>\n",
       "    </tr>\n",
       "    <tr>\n",
       "      <th>2</th>\n",
       "      <td>2.0</td>\n",
       "      <td>-1.0</td>\n",
       "      <td>1.0</td>\n",
       "      <td>0.000000</td>\n",
       "      <td>0.000000</td>\n",
       "      <td>0.0</td>\n",
       "    </tr>\n",
       "    <tr>\n",
       "      <th>3</th>\n",
       "      <td>7.0</td>\n",
       "      <td>-12.0</td>\n",
       "      <td>3.0</td>\n",
       "      <td>1.000000</td>\n",
       "      <td>0.000000</td>\n",
       "      <td>0.0</td>\n",
       "    </tr>\n",
       "    <tr>\n",
       "      <th>4</th>\n",
       "      <td>1.0</td>\n",
       "      <td>-2.0</td>\n",
       "      <td>1.0</td>\n",
       "      <td>0.160714</td>\n",
       "      <td>1.000000</td>\n",
       "      <td>0.0</td>\n",
       "    </tr>\n",
       "    <tr>\n",
       "      <th>5</th>\n",
       "      <td>1.0</td>\n",
       "      <td>-7.0</td>\n",
       "      <td>-0.0</td>\n",
       "      <td>0.660714</td>\n",
       "      <td>-0.670644</td>\n",
       "      <td>1.0</td>\n",
       "    </tr>\n",
       "  </tbody>\n",
       "</table>\n",
       "</div>"
      ],
      "text/plain": [
       "     0     1    2         3         4    5\n",
       "0  1.0   0.0  0.0  0.000000  0.000000  0.0\n",
       "1  0.0   1.0  0.0  0.000000  0.000000  0.0\n",
       "2  2.0  -1.0  1.0  0.000000  0.000000  0.0\n",
       "3  7.0 -12.0  3.0  1.000000  0.000000  0.0\n",
       "4  1.0  -2.0  1.0  0.160714  1.000000  0.0\n",
       "5  1.0  -7.0 -0.0  0.660714 -0.670644  1.0"
      ]
     },
     "execution_count": 4,
     "metadata": {},
     "output_type": "execute_result"
    }
   ],
   "source": [
    "pd.DataFrame(L1)"
   ]
  },
  {
   "cell_type": "code",
   "execution_count": 5,
   "id": "coordinated-shipping",
   "metadata": {},
   "outputs": [
    {
     "data": {
      "text/html": [
       "<div>\n",
       "<style scoped>\n",
       "    .dataframe tbody tr th:only-of-type {\n",
       "        vertical-align: middle;\n",
       "    }\n",
       "\n",
       "    .dataframe tbody tr th {\n",
       "        vertical-align: top;\n",
       "    }\n",
       "\n",
       "    .dataframe thead th {\n",
       "        text-align: right;\n",
       "    }\n",
       "</style>\n",
       "<table border=\"1\" class=\"dataframe\">\n",
       "  <thead>\n",
       "    <tr style=\"text-align: right;\">\n",
       "      <th></th>\n",
       "      <th>0</th>\n",
       "      <th>1</th>\n",
       "      <th>2</th>\n",
       "      <th>3</th>\n",
       "      <th>4</th>\n",
       "      <th>5</th>\n",
       "    </tr>\n",
       "  </thead>\n",
       "  <tbody>\n",
       "    <tr>\n",
       "      <th>0</th>\n",
       "      <td>1.0</td>\n",
       "      <td>2.0</td>\n",
       "      <td>3.0</td>\n",
       "      <td>1.0</td>\n",
       "      <td>2.000000</td>\n",
       "      <td>1.000000</td>\n",
       "    </tr>\n",
       "    <tr>\n",
       "      <th>1</th>\n",
       "      <td>0.0</td>\n",
       "      <td>1.0</td>\n",
       "      <td>0.0</td>\n",
       "      <td>6.0</td>\n",
       "      <td>-1.000000</td>\n",
       "      <td>0.000000</td>\n",
       "    </tr>\n",
       "    <tr>\n",
       "      <th>2</th>\n",
       "      <td>0.0</td>\n",
       "      <td>0.0</td>\n",
       "      <td>-5.0</td>\n",
       "      <td>3.0</td>\n",
       "      <td>-7.000000</td>\n",
       "      <td>-3.000000</td>\n",
       "    </tr>\n",
       "    <tr>\n",
       "      <th>3</th>\n",
       "      <td>0.0</td>\n",
       "      <td>0.0</td>\n",
       "      <td>0.0</td>\n",
       "      <td>56.0</td>\n",
       "      <td>-3.000000</td>\n",
       "      <td>13.000000</td>\n",
       "    </tr>\n",
       "    <tr>\n",
       "      <th>4</th>\n",
       "      <td>0.0</td>\n",
       "      <td>0.0</td>\n",
       "      <td>0.0</td>\n",
       "      <td>0.0</td>\n",
       "      <td>7.482143</td>\n",
       "      <td>2.910714</td>\n",
       "    </tr>\n",
       "    <tr>\n",
       "      <th>5</th>\n",
       "      <td>0.0</td>\n",
       "      <td>0.0</td>\n",
       "      <td>0.0</td>\n",
       "      <td>0.0</td>\n",
       "      <td>0.000000</td>\n",
       "      <td>-7.637232</td>\n",
       "    </tr>\n",
       "  </tbody>\n",
       "</table>\n",
       "</div>"
      ],
      "text/plain": [
       "     0    1    2     3         4          5\n",
       "0  1.0  2.0  3.0   1.0  2.000000   1.000000\n",
       "1  0.0  1.0  0.0   6.0 -1.000000   0.000000\n",
       "2  0.0  0.0 -5.0   3.0 -7.000000  -3.000000\n",
       "3  0.0  0.0  0.0  56.0 -3.000000  13.000000\n",
       "4  0.0  0.0  0.0   0.0  7.482143   2.910714\n",
       "5  0.0  0.0  0.0   0.0  0.000000  -7.637232"
      ]
     },
     "execution_count": 5,
     "metadata": {},
     "output_type": "execute_result"
    }
   ],
   "source": [
    "pd.DataFrame(U1)"
   ]
  },
  {
   "cell_type": "code",
   "execution_count": 6,
   "id": "burning-remedy",
   "metadata": {},
   "outputs": [
    {
     "data": {
      "text/plain": [
       "array([[ 1.,  2.,  3.,  1.,  2.,  1.],\n",
       "       [ 0.,  1.,  0.,  6., -1.,  0.],\n",
       "       [ 2.,  3.,  1., -1., -2., -1.],\n",
       "       [ 7.,  2.,  6.,  0.,  2., 11.],\n",
       "       [ 1.,  0., -2.,  1.,  4.,  3.],\n",
       "       [ 1., -5.,  3., -4.,  2.,  0.]])"
      ]
     },
     "execution_count": 6,
     "metadata": {},
     "output_type": "execute_result"
    }
   ],
   "source": [
    "L1 @ U1"
   ]
  },
  {
   "cell_type": "markdown",
   "id": "demographic-agriculture",
   "metadata": {},
   "source": [
    "### LU Decomposition-test Sparse"
   ]
  },
  {
   "cell_type": "code",
   "execution_count": 7,
   "id": "minute-submission",
   "metadata": {},
   "outputs": [],
   "source": [
    "L2, U2 = get_LU_sparse(csr_matrix(A))"
   ]
  },
  {
   "cell_type": "code",
   "execution_count": 8,
   "id": "sophisticated-praise",
   "metadata": {},
   "outputs": [
    {
     "data": {
      "text/html": [
       "<div>\n",
       "<style scoped>\n",
       "    .dataframe tbody tr th:only-of-type {\n",
       "        vertical-align: middle;\n",
       "    }\n",
       "\n",
       "    .dataframe tbody tr th {\n",
       "        vertical-align: top;\n",
       "    }\n",
       "\n",
       "    .dataframe thead th {\n",
       "        text-align: right;\n",
       "    }\n",
       "</style>\n",
       "<table border=\"1\" class=\"dataframe\">\n",
       "  <thead>\n",
       "    <tr style=\"text-align: right;\">\n",
       "      <th></th>\n",
       "      <th>0</th>\n",
       "      <th>1</th>\n",
       "      <th>2</th>\n",
       "      <th>3</th>\n",
       "      <th>4</th>\n",
       "      <th>5</th>\n",
       "    </tr>\n",
       "  </thead>\n",
       "  <tbody>\n",
       "    <tr>\n",
       "      <th>0</th>\n",
       "      <td>1.0</td>\n",
       "      <td>0.0</td>\n",
       "      <td>0.0</td>\n",
       "      <td>0.000000</td>\n",
       "      <td>0.000000</td>\n",
       "      <td>0.0</td>\n",
       "    </tr>\n",
       "    <tr>\n",
       "      <th>1</th>\n",
       "      <td>0.0</td>\n",
       "      <td>1.0</td>\n",
       "      <td>0.0</td>\n",
       "      <td>0.000000</td>\n",
       "      <td>0.000000</td>\n",
       "      <td>0.0</td>\n",
       "    </tr>\n",
       "    <tr>\n",
       "      <th>2</th>\n",
       "      <td>2.0</td>\n",
       "      <td>-1.0</td>\n",
       "      <td>1.0</td>\n",
       "      <td>0.000000</td>\n",
       "      <td>0.000000</td>\n",
       "      <td>0.0</td>\n",
       "    </tr>\n",
       "    <tr>\n",
       "      <th>3</th>\n",
       "      <td>7.0</td>\n",
       "      <td>-12.0</td>\n",
       "      <td>3.0</td>\n",
       "      <td>1.000000</td>\n",
       "      <td>0.000000</td>\n",
       "      <td>0.0</td>\n",
       "    </tr>\n",
       "    <tr>\n",
       "      <th>4</th>\n",
       "      <td>1.0</td>\n",
       "      <td>-2.0</td>\n",
       "      <td>1.0</td>\n",
       "      <td>0.160714</td>\n",
       "      <td>1.000000</td>\n",
       "      <td>0.0</td>\n",
       "    </tr>\n",
       "    <tr>\n",
       "      <th>5</th>\n",
       "      <td>1.0</td>\n",
       "      <td>-7.0</td>\n",
       "      <td>0.0</td>\n",
       "      <td>0.660714</td>\n",
       "      <td>-0.670644</td>\n",
       "      <td>1.0</td>\n",
       "    </tr>\n",
       "  </tbody>\n",
       "</table>\n",
       "</div>"
      ],
      "text/plain": [
       "     0     1    2         3         4    5\n",
       "0  1.0   0.0  0.0  0.000000  0.000000  0.0\n",
       "1  0.0   1.0  0.0  0.000000  0.000000  0.0\n",
       "2  2.0  -1.0  1.0  0.000000  0.000000  0.0\n",
       "3  7.0 -12.0  3.0  1.000000  0.000000  0.0\n",
       "4  1.0  -2.0  1.0  0.160714  1.000000  0.0\n",
       "5  1.0  -7.0  0.0  0.660714 -0.670644  1.0"
      ]
     },
     "execution_count": 8,
     "metadata": {},
     "output_type": "execute_result"
    }
   ],
   "source": [
    "pd.DataFrame(L2.todense())"
   ]
  },
  {
   "cell_type": "code",
   "execution_count": 9,
   "id": "according-workplace",
   "metadata": {},
   "outputs": [
    {
     "data": {
      "text/html": [
       "<div>\n",
       "<style scoped>\n",
       "    .dataframe tbody tr th:only-of-type {\n",
       "        vertical-align: middle;\n",
       "    }\n",
       "\n",
       "    .dataframe tbody tr th {\n",
       "        vertical-align: top;\n",
       "    }\n",
       "\n",
       "    .dataframe thead th {\n",
       "        text-align: right;\n",
       "    }\n",
       "</style>\n",
       "<table border=\"1\" class=\"dataframe\">\n",
       "  <thead>\n",
       "    <tr style=\"text-align: right;\">\n",
       "      <th></th>\n",
       "      <th>0</th>\n",
       "      <th>1</th>\n",
       "      <th>2</th>\n",
       "      <th>3</th>\n",
       "      <th>4</th>\n",
       "      <th>5</th>\n",
       "    </tr>\n",
       "  </thead>\n",
       "  <tbody>\n",
       "    <tr>\n",
       "      <th>0</th>\n",
       "      <td>1.0</td>\n",
       "      <td>2.0</td>\n",
       "      <td>3.0</td>\n",
       "      <td>1.0</td>\n",
       "      <td>2.000000</td>\n",
       "      <td>1.000000</td>\n",
       "    </tr>\n",
       "    <tr>\n",
       "      <th>1</th>\n",
       "      <td>0.0</td>\n",
       "      <td>1.0</td>\n",
       "      <td>0.0</td>\n",
       "      <td>6.0</td>\n",
       "      <td>-1.000000</td>\n",
       "      <td>0.000000</td>\n",
       "    </tr>\n",
       "    <tr>\n",
       "      <th>2</th>\n",
       "      <td>0.0</td>\n",
       "      <td>0.0</td>\n",
       "      <td>-5.0</td>\n",
       "      <td>3.0</td>\n",
       "      <td>-7.000000</td>\n",
       "      <td>-3.000000</td>\n",
       "    </tr>\n",
       "    <tr>\n",
       "      <th>3</th>\n",
       "      <td>0.0</td>\n",
       "      <td>0.0</td>\n",
       "      <td>0.0</td>\n",
       "      <td>56.0</td>\n",
       "      <td>-3.000000</td>\n",
       "      <td>13.000000</td>\n",
       "    </tr>\n",
       "    <tr>\n",
       "      <th>4</th>\n",
       "      <td>0.0</td>\n",
       "      <td>0.0</td>\n",
       "      <td>0.0</td>\n",
       "      <td>0.0</td>\n",
       "      <td>7.482143</td>\n",
       "      <td>2.910714</td>\n",
       "    </tr>\n",
       "    <tr>\n",
       "      <th>5</th>\n",
       "      <td>0.0</td>\n",
       "      <td>0.0</td>\n",
       "      <td>0.0</td>\n",
       "      <td>0.0</td>\n",
       "      <td>0.000000</td>\n",
       "      <td>-7.637232</td>\n",
       "    </tr>\n",
       "  </tbody>\n",
       "</table>\n",
       "</div>"
      ],
      "text/plain": [
       "     0    1    2     3         4          5\n",
       "0  1.0  2.0  3.0   1.0  2.000000   1.000000\n",
       "1  0.0  1.0  0.0   6.0 -1.000000   0.000000\n",
       "2  0.0  0.0 -5.0   3.0 -7.000000  -3.000000\n",
       "3  0.0  0.0  0.0  56.0 -3.000000  13.000000\n",
       "4  0.0  0.0  0.0   0.0  7.482143   2.910714\n",
       "5  0.0  0.0  0.0   0.0  0.000000  -7.637232"
      ]
     },
     "execution_count": 9,
     "metadata": {},
     "output_type": "execute_result"
    }
   ],
   "source": [
    "pd.DataFrame(U2.todense())"
   ]
  },
  {
   "cell_type": "code",
   "execution_count": 10,
   "id": "spiritual-meeting",
   "metadata": {},
   "outputs": [
    {
     "data": {
      "text/plain": [
       "matrix([[ 1.,  2.,  3.,  1.,  2.,  1.],\n",
       "        [ 0.,  1.,  0.,  6., -1.,  0.],\n",
       "        [ 2.,  3.,  1., -1., -2., -1.],\n",
       "        [ 7.,  2.,  6.,  0.,  2., 11.],\n",
       "        [ 1.,  0., -2.,  1.,  4.,  3.],\n",
       "        [ 1., -5.,  3., -4.,  2.,  0.]])"
      ]
     },
     "execution_count": 10,
     "metadata": {},
     "output_type": "execute_result"
    }
   ],
   "source": [
    "L2.todense() @ U2.todense()"
   ]
  },
  {
   "cell_type": "markdown",
   "id": "greatest-smooth",
   "metadata": {},
   "source": [
    "### Решение СЛАУ"
   ]
  },
  {
   "cell_type": "code",
   "execution_count": 11,
   "id": "registered-census",
   "metadata": {},
   "outputs": [],
   "source": [
    "A = np.array([\n",
    "    [1, -1, 3, 1], \n",
    "    [4, -1, 5, 4],\n",
    "    [2, -2, 4, 1],\n",
    "    [1, -4, 5, -1]\n",
    "])\n",
    "\n",
    "b = np.array([5, 4, 6, 3])\n",
    "gt_solution = np.array([9, 18, 10, -16])"
   ]
  },
  {
   "cell_type": "code",
   "execution_count": 12,
   "id": "mediterranean-textbook",
   "metadata": {},
   "outputs": [
    {
     "data": {
      "text/plain": [
       "array([  9.,  18.,  10., -16.])"
      ]
     },
     "execution_count": 12,
     "metadata": {},
     "output_type": "execute_result"
    }
   ],
   "source": [
    "solve_system(A, b)"
   ]
  },
  {
   "cell_type": "code",
   "execution_count": 13,
   "id": "interesting-premises",
   "metadata": {},
   "outputs": [
    {
     "data": {
      "text/plain": [
       "matrix([[  9.],\n",
       "        [ 18.],\n",
       "        [ 10.],\n",
       "        [-16.]])"
      ]
     },
     "execution_count": 13,
     "metadata": {},
     "output_type": "execute_result"
    }
   ],
   "source": [
    "solve_system_sparse(A, b).todense()"
   ]
  },
  {
   "cell_type": "markdown",
   "id": "consolidated-compression",
   "metadata": {},
   "source": [
    "#### Random matrix"
   ]
  },
  {
   "cell_type": "code",
   "execution_count": 14,
   "id": "turkish-metro",
   "metadata": {},
   "outputs": [],
   "source": [
    "A_rand = np.random.rand(6, 6) * 10000\n",
    "b_rand = np.random.rand(6) * 10000"
   ]
  },
  {
   "cell_type": "code",
   "execution_count": 15,
   "id": "measured-saint",
   "metadata": {
    "scrolled": true
   },
   "outputs": [
    {
     "data": {
      "text/plain": [
       "array([3539.77086852, 6664.13647486,  112.50033922,  494.23143706,\n",
       "       5443.26171297, 2996.50191931])"
      ]
     },
     "execution_count": 15,
     "metadata": {},
     "output_type": "execute_result"
    }
   ],
   "source": [
    "b_rand"
   ]
  },
  {
   "cell_type": "code",
   "execution_count": 16,
   "id": "loose-honey",
   "metadata": {},
   "outputs": [
    {
     "data": {
      "text/plain": [
       "array([ 4.50804286, -3.12469556, -0.26224487,  1.46475111,  1.36559649,\n",
       "       -1.20248095])"
      ]
     },
     "execution_count": 16,
     "metadata": {},
     "output_type": "execute_result"
    }
   ],
   "source": [
    "x1 = solve_system(A_rand, b_rand)\n",
    "x1"
   ]
  },
  {
   "cell_type": "code",
   "execution_count": 17,
   "id": "confidential-foster",
   "metadata": {},
   "outputs": [
    {
     "data": {
      "text/plain": [
       "array([3539.77086852, 6664.13647486,  112.50033922,  494.23143706,\n",
       "       5443.26171297, 2996.50191931])"
      ]
     },
     "execution_count": 17,
     "metadata": {},
     "output_type": "execute_result"
    }
   ],
   "source": [
    "A_rand @ x1"
   ]
  },
  {
   "cell_type": "code",
   "execution_count": 18,
   "id": "noticed-league",
   "metadata": {},
   "outputs": [
    {
     "data": {
      "text/plain": [
       "matrix([[ 4.50804286],\n",
       "        [-3.12469556],\n",
       "        [-0.26224487],\n",
       "        [ 1.46475111],\n",
       "        [ 1.36559649],\n",
       "        [-1.20248095]])"
      ]
     },
     "execution_count": 18,
     "metadata": {},
     "output_type": "execute_result"
    }
   ],
   "source": [
    "x2 = solve_system_sparse(A_rand, b_rand)\n",
    "x2.todense()"
   ]
  },
  {
   "cell_type": "code",
   "execution_count": 19,
   "id": "rubber-migration",
   "metadata": {},
   "outputs": [
    {
     "data": {
      "text/plain": [
       "matrix([[3539.77086852],\n",
       "        [6664.13647486],\n",
       "        [ 112.50033922],\n",
       "        [ 494.23143706],\n",
       "        [5443.26171297],\n",
       "        [2996.50191931]])"
      ]
     },
     "execution_count": 19,
     "metadata": {},
     "output_type": "execute_result"
    }
   ],
   "source": [
    "A_rand @ x2.todense()"
   ]
  },
  {
   "cell_type": "markdown",
   "id": "grave-stanford",
   "metadata": {},
   "source": [
    "### Inverse Matrix search"
   ]
  },
  {
   "cell_type": "code",
   "execution_count": 20,
   "id": "neither-chambers",
   "metadata": {},
   "outputs": [],
   "source": [
    "A = np.array([\n",
    "    [2, 1, 1, 0],\n",
    "    [3, 2, 0, 0],\n",
    "    [1, 1, 3, 4],\n",
    "    [2, -1, 2, 3]\n",
    "])"
   ]
  },
  {
   "cell_type": "code",
   "execution_count": 21,
   "id": "popular-stone",
   "metadata": {},
   "outputs": [
    {
     "data": {
      "text/plain": [
       "array([[ 0.0625 ,  0.1875 , -0.1875 ,  0.25   ],\n",
       "       [-0.09375,  0.21875,  0.28125, -0.375  ],\n",
       "       [ 0.96875, -0.59375,  0.09375, -0.125  ],\n",
       "       [-0.71875,  0.34375,  0.15625,  0.125  ]])"
      ]
     },
     "execution_count": 21,
     "metadata": {},
     "output_type": "execute_result"
    }
   ],
   "source": [
    "A_inverse_1 = get_inverse(A)\n",
    "A_inverse_1"
   ]
  },
  {
   "cell_type": "code",
   "execution_count": 22,
   "id": "resident-hospital",
   "metadata": {},
   "outputs": [
    {
     "data": {
      "text/plain": [
       "array([[1., 0., 0., 0.],\n",
       "       [0., 1., 0., 0.],\n",
       "       [0., 0., 1., 0.],\n",
       "       [0., 0., 0., 1.]])"
      ]
     },
     "execution_count": 22,
     "metadata": {},
     "output_type": "execute_result"
    }
   ],
   "source": [
    "A @ A_inverse_1"
   ]
  },
  {
   "cell_type": "code",
   "execution_count": 26,
   "id": "loving-brisbane",
   "metadata": {},
   "outputs": [
    {
     "data": {
      "text/plain": [
       "matrix([[ 0.0625 ,  0.1875 , -0.1875 ,  0.25   ],\n",
       "        [-0.09375,  0.21875,  0.28125, -0.375  ],\n",
       "        [ 0.96875, -0.59375,  0.09375, -0.125  ],\n",
       "        [-0.71875,  0.34375,  0.15625,  0.125  ]])"
      ]
     },
     "execution_count": 26,
     "metadata": {},
     "output_type": "execute_result"
    }
   ],
   "source": [
    "A_inverse_2 = get_inverse_sparse(A)\n",
    "A_inverse_2.todense()"
   ]
  },
  {
   "cell_type": "code",
   "execution_count": 27,
   "id": "outside-cache",
   "metadata": {},
   "outputs": [
    {
     "data": {
      "text/plain": [
       "array([[1., 0., 0., 0.],\n",
       "       [0., 1., 0., 0.],\n",
       "       [0., 0., 1., 0.],\n",
       "       [0., 0., 0., 1.]])"
      ]
     },
     "execution_count": 27,
     "metadata": {},
     "output_type": "execute_result"
    }
   ],
   "source": [
    "A @ A_inverse_2"
   ]
  },
  {
   "cell_type": "markdown",
   "id": "seasonal-contest",
   "metadata": {},
   "source": [
    "### Task 3. Matrix generation based on `k`"
   ]
  },
  {
   "cell_type": "code",
   "execution_count": 24,
   "id": "suffering-tribe",
   "metadata": {},
   "outputs": [],
   "source": [
    "def generate_eye_matrix(k):\n",
    "    matrix = np.zeros((k, k))\n",
    "    \n",
    "    values_set = [0, -1, -2, -3, -4] \n",
    "    \n",
    "    for i in range(k):\n",
    "        for j in range(k):\n",
    "            if i != j:\n",
    "                matrix[i, j] = np.random.choice(values_set)\n",
    "                \n",
    "    for i in range(k):\n",
    "        matrix[i, i] = matrix[i, :].sum()\n",
    "        \n",
    "    if np.random.rand(1)[0] > 0.5:\n",
    "        matrix[i, i] += 10 ** (-k)\n",
    "                \n",
    "    return matrix\n",
    "\n",
    "\n",
    "def conduct_experiment(k, num_exp):\n",
    "    solutions = list()\n",
    "    errors = list()\n",
    "    \n",
    "    x = np.arange(k) + 1\n",
    "    \n",
    "    for i in range(num_exp):\n",
    "        A = generate_eye_matrix(k)\n",
    "        \n",
    "        \n"
   ]
  },
  {
   "cell_type": "markdown",
   "id": "endless-prediction",
   "metadata": {},
   "source": [
    "### Task 4. Gilbert matrix generation based on `k`"
   ]
  },
  {
   "cell_type": "code",
   "execution_count": 25,
   "id": "earlier-roller",
   "metadata": {},
   "outputs": [],
   "source": [
    "def generate_gilbert_matrix(k):\n",
    "    matrix = np.zeros((k, k))\n",
    "    \n",
    "    for i in range(k):\n",
    "        for j in range(k):\n",
    "            matrix[i, j] = 1 / ((i+1) + (j+1) - 1)\n",
    "            \n",
    "    return matrix"
   ]
  }
 ],
 "metadata": {
  "kernelspec": {
   "display_name": "Python 3",
   "language": "python",
   "name": "python3"
  },
  "language_info": {
   "codemirror_mode": {
    "name": "ipython",
    "version": 3
   },
   "file_extension": ".py",
   "mimetype": "text/x-python",
   "name": "python",
   "nbconvert_exporter": "python",
   "pygments_lexer": "ipython3",
   "version": "3.8.5"
  }
 },
 "nbformat": 4,
 "nbformat_minor": 5
}
